{
 "cells": [
  {
   "cell_type": "code",
   "execution_count": 1,
   "id": "f5c06595-15e6-4bcc-8ab8-c48a54e6a788",
   "metadata": {
    "execution": {
     "iopub.execute_input": "2025-07-25T21:13:47.796829Z",
     "iopub.status.busy": "2025-07-25T21:13:47.796153Z",
     "iopub.status.idle": "2025-07-25T21:13:48.024725Z",
     "shell.execute_reply": "2025-07-25T21:13:48.024151Z"
    },
    "papermill": {
     "duration": 0.23582,
     "end_time": "2025-07-25T21:13:48.026119",
     "exception": false,
     "start_time": "2025-07-25T21:13:47.790299",
     "status": "completed"
    },
    "tags": []
   },
   "outputs": [],
   "source": [
    "from pyspark.sql import SparkSession\n",
    "from pyspark.sql.functions import col\n",
    "import os"
   ]
  },
  {
   "cell_type": "code",
   "execution_count": 2,
   "id": "9dd692e5-3867-4658-92ba-734bb7160759",
   "metadata": {
    "execution": {
     "iopub.execute_input": "2025-07-25T21:13:48.043810Z",
     "iopub.status.busy": "2025-07-25T21:13:48.043193Z",
     "iopub.status.idle": "2025-07-25T21:13:50.505956Z",
     "shell.execute_reply": "2025-07-25T21:13:50.505008Z"
    },
    "papermill": {
     "duration": 2.477907,
     "end_time": "2025-07-25T21:13:50.507591",
     "exception": false,
     "start_time": "2025-07-25T21:13:48.029684",
     "status": "completed"
    },
    "tags": []
   },
   "outputs": [],
   "source": [
    "spark = SparkSession.builder \\\n",
    "    .appName(\"Customer360-Transform\") \\\n",
    "    .master(\"local[*]\") \\\n",
    "    .config(\"spark.sql.legacy.parquet.int96AsTimestamp\", \"true\") \\\n",
    "    .config(\"spark.sql.parquet.enableNestedSchemaPruning\", \"true\") \\\n",
    "    .getOrCreate()"
   ]
  },
  {
   "cell_type": "code",
   "execution_count": 3,
   "id": "6017f346-78e7-43ac-9d6b-17d094d4213a",
   "metadata": {
    "execution": {
     "iopub.execute_input": "2025-07-25T21:13:50.525655Z",
     "iopub.status.busy": "2025-07-25T21:13:50.525166Z",
     "iopub.status.idle": "2025-07-25T21:13:52.281701Z",
     "shell.execute_reply": "2025-07-25T21:13:52.281056Z"
    },
    "papermill": {
     "duration": 1.772256,
     "end_time": "2025-07-25T21:13:52.283359",
     "exception": false,
     "start_time": "2025-07-25T21:13:50.511103",
     "status": "completed"
    },
    "tags": []
   },
   "outputs": [],
   "source": [
    "df_crm = spark.read.parquet(r\"/home/jovyan/work/staging/crm.parquet\")\n",
    "df_txn = spark.read.parquet(r\"/home/jovyan/work/staging/txns.parquet\")"
   ]
  },
  {
   "cell_type": "code",
   "execution_count": 4,
   "id": "a6ae058d-2e05-4c9c-830e-9828b5bd7887",
   "metadata": {
    "execution": {
     "iopub.execute_input": "2025-07-25T21:13:52.302266Z",
     "iopub.status.busy": "2025-07-25T21:13:52.301618Z",
     "iopub.status.idle": "2025-07-25T21:13:52.388305Z",
     "shell.execute_reply": "2025-07-25T21:13:52.387604Z"
    },
    "papermill": {
     "duration": 0.102495,
     "end_time": "2025-07-25T21:13:52.389484",
     "exception": false,
     "start_time": "2025-07-25T21:13:52.286989",
     "status": "completed"
    },
    "tags": []
   },
   "outputs": [],
   "source": [
    "   # Join CRM and Transactions on customer ID\n",
    "df_joined = df_txn.join(df_crm, df_txn.CustomerID == df_crm.customer_id)"
   ]
  },
  {
   "cell_type": "code",
   "execution_count": 5,
   "id": "a57be4c7-9a61-4b1c-b560-73553772b2db",
   "metadata": {
    "execution": {
     "iopub.execute_input": "2025-07-25T21:13:52.408712Z",
     "iopub.status.busy": "2025-07-25T21:13:52.408523Z",
     "iopub.status.idle": "2025-07-25T21:13:54.321531Z",
     "shell.execute_reply": "2025-07-25T21:13:54.320964Z"
    },
    "papermill": {
     "duration": 1.929145,
     "end_time": "2025-07-25T21:13:54.322811",
     "exception": false,
     "start_time": "2025-07-25T21:13:52.393666",
     "status": "completed"
    },
    "tags": []
   },
   "outputs": [
    {
     "name": "stdout",
     "output_type": "stream",
     "text": [
      "+---------+----------+--------+---------+-------------------+-----------+----------+---------+--------------------+--------------------+-----------+\n",
      "|InvoiceNo|CustomerID|Quantity|UnitPrice|        InvoiceDate|customer_id|first_name|last_name|               email|             country|signup_date|\n",
      "+---------+----------+--------+---------+-------------------+-----------+----------+---------+--------------------+--------------------+-----------+\n",
      "|  INV1000|        46|       1|     29.6|2025-04-10 00:00:00|         46|    Ronald| Thompson|jessicaclarke@exa...|             Finland| 2025-01-06|\n",
      "|  INV1001|        45|       8|    36.28|2025-04-09 00:00:00|         45|  Mitchell|   Clarke|kristy94@example.org|          Guadeloupe| 2022-11-03|\n",
      "|  INV1002|        81|       6|     9.95|2023-11-06 00:00:00|         81|    Martin| Robinson|leachlisa@example...|Libyan Arab Jamah...| 2023-07-16|\n",
      "|  INV1003|        70|       3|    44.33|2023-09-11 00:00:00|         70|     Kelly| Mcdaniel| jacob43@example.org|          Montserrat| 2024-11-20|\n",
      "|  INV1004|        61|      10|    28.47|2024-11-16 00:00:00|         61|     Jacob|    Moore|harrisjoshua@exam...|            Djibouti| 2022-08-11|\n",
      "|  INV1005|        75|       4|    10.07|2022-07-30 00:00:00|         75|    Tracey|   Nelson| farnold@example.net|United States Vir...| 2023-03-13|\n",
      "|  INV1006|        40|       7|    44.42|2023-08-17 00:00:00|         40|   Melinda|     Hall|raymondhernandez@...|             Grenada| 2025-02-01|\n",
      "|  INV1007|        24|       2|    44.33|2022-12-03 00:00:00|         24|  Cheyenne| Williams|christopherbarret...|             Bolivia| 2022-12-24|\n",
      "|  INV1008|        58|       9|    16.37|2025-02-17 00:00:00|         58|     Laura|   Farley| mjuarez@example.net|               Nepal| 2023-10-29|\n",
      "|  INV1009|        67|       9|    35.59|2024-12-13 00:00:00|         67|   Kathryn|   Nguyen|  mark39@example.org|         El Salvador| 2025-07-02|\n",
      "|  INV1010|        35|       4|    46.56|2023-11-09 00:00:00|         35|    Justin|     King|xmiddleton@exampl...|             Lebanon| 2024-04-20|\n",
      "|  INV1011|        42|       9|    47.46|2023-01-06 00:00:00|         42|      Mark|    Foley|wilsonandrew@exam...|               Gabon| 2024-03-10|\n",
      "|  INV1012|        85|       1|    29.19|2023-10-27 00:00:00|         85|    Morgan|    Greer|loveadrian@exampl...|Sao Tome and Prin...| 2023-07-18|\n",
      "|  INV1013|        79|      10|    35.64|2025-06-17 00:00:00|         79|     David|   Carter|brewercarolyn@exa...|               Ghana| 2024-06-30|\n",
      "|  INV1014|        29|       2|    35.74|2024-06-29 00:00:00|         29|    Jordan| Marshall|xrobertson@exampl...|           Australia| 2025-05-18|\n",
      "|  INV1015|        25|       8|    20.22|2024-04-12 00:00:00|         25|      John|  Mullins|harveykristin@exa...|            Djibouti| 2023-09-27|\n",
      "|  INV1016|        93|       9|    12.21|2025-05-10 00:00:00|         93|    Nathan| Caldwell|deanna93@example.net|          Cape Verde| 2023-02-05|\n",
      "|  INV1017|         2|       1|    18.86|2023-02-24 00:00:00|          2|    Alisha|    Price|fmitchell@example...|              Angola| 2024-12-15|\n",
      "|  INV1018|        79|      10|     9.09|2023-11-24 00:00:00|         79|     David|   Carter|brewercarolyn@exa...|               Ghana| 2024-06-30|\n",
      "|  INV1019|        56|       7|    23.89|2024-09-18 00:00:00|         56|     James|     Reed|imaldonado@exampl...|             Estonia| 2024-11-07|\n",
      "+---------+----------+--------+---------+-------------------+-----------+----------+---------+--------------------+--------------------+-----------+\n",
      "only showing top 20 rows\n",
      "\n"
     ]
    }
   ],
   "source": [
    "df_joined.show()"
   ]
  },
  {
   "cell_type": "code",
   "execution_count": 6,
   "id": "f8611488-7119-4d28-9ad1-101394add5f2",
   "metadata": {
    "execution": {
     "iopub.execute_input": "2025-07-25T21:13:54.341624Z",
     "iopub.status.busy": "2025-07-25T21:13:54.341189Z",
     "iopub.status.idle": "2025-07-25T21:13:54.380885Z",
     "shell.execute_reply": "2025-07-25T21:13:54.380279Z"
    },
    "papermill": {
     "duration": 0.055709,
     "end_time": "2025-07-25T21:13:54.382207",
     "exception": false,
     "start_time": "2025-07-25T21:13:54.326498",
     "status": "completed"
    },
    "tags": []
   },
   "outputs": [],
   "source": [
    "df_ltv = df_joined.groupBy(\"customer_id\").sum(\"Quantity\", \"UnitPrice\")"
   ]
  },
  {
   "cell_type": "code",
   "execution_count": 7,
   "id": "8abefac6-da64-402f-bad3-af0d91965a3b",
   "metadata": {
    "execution": {
     "iopub.execute_input": "2025-07-25T21:13:54.396294Z",
     "iopub.status.busy": "2025-07-25T21:13:54.395881Z",
     "iopub.status.idle": "2025-07-25T21:13:55.154488Z",
     "shell.execute_reply": "2025-07-25T21:13:55.153974Z"
    },
    "papermill": {
     "duration": 0.770188,
     "end_time": "2025-07-25T21:13:55.155558",
     "exception": false,
     "start_time": "2025-07-25T21:13:54.385370",
     "status": "completed"
    },
    "tags": []
   },
   "outputs": [
    {
     "name": "stdout",
     "output_type": "stream",
     "text": [
      "+-----------+-------------+------------------+\n",
      "|customer_id|sum(Quantity)|    sum(UnitPrice)|\n",
      "+-----------+-------------+------------------+\n",
      "|         29|           32|246.93999999999997|\n",
      "|         26|           33|            157.69|\n",
      "|         65|           19|            137.53|\n",
      "|         54|           39|            151.75|\n",
      "|         19|           30|            113.53|\n",
      "|         22|           20| 92.89999999999999|\n",
      "|          7|           43|            199.52|\n",
      "|         77|           39|            124.56|\n",
      "|         34|           34|138.52999999999997|\n",
      "|         94|           44|186.89000000000004|\n",
      "|         50|           49|            216.52|\n",
      "|         57|           19|             68.09|\n",
      "|         32|           11|             59.43|\n",
      "|         43|           12|            138.07|\n",
      "|         84|           25|             75.55|\n",
      "|         31|           44|206.70000000000002|\n",
      "|         98|           12|126.16999999999999|\n",
      "|         39|           23| 87.97999999999999|\n",
      "|         25|           27|194.02999999999997|\n",
      "|         95|           12|            113.07|\n",
      "+-----------+-------------+------------------+\n",
      "only showing top 20 rows\n",
      "\n"
     ]
    }
   ],
   "source": [
    "df_ltv.show()"
   ]
  },
  {
   "cell_type": "code",
   "execution_count": 8,
   "id": "4b8ef554-45ce-4cb5-ac18-3aa8a0939567",
   "metadata": {
    "execution": {
     "iopub.execute_input": "2025-07-25T21:13:55.175808Z",
     "iopub.status.busy": "2025-07-25T21:13:55.175379Z",
     "iopub.status.idle": "2025-07-25T21:13:55.212754Z",
     "shell.execute_reply": "2025-07-25T21:13:55.211906Z"
    },
    "papermill": {
     "duration": 0.051414,
     "end_time": "2025-07-25T21:13:55.214168",
     "exception": false,
     "start_time": "2025-07-25T21:13:55.162754",
     "status": "completed"
    },
    "tags": []
   },
   "outputs": [],
   "source": [
    "df_ltv = df_ltv.withColumn(\n",
    "    \"lifetime_value\",\n",
    "    col(\"sum(Quantity)\") * col(\"sum(UnitPrice)\")\n",
    ").select(\"customer_id\", \"lifetime_value\")"
   ]
  },
  {
   "cell_type": "code",
   "execution_count": 9,
   "id": "473d4a08-6919-45e8-a290-e310f70516be",
   "metadata": {
    "execution": {
     "iopub.execute_input": "2025-07-25T21:13:55.234403Z",
     "iopub.status.busy": "2025-07-25T21:13:55.234096Z",
     "iopub.status.idle": "2025-07-25T21:13:55.637982Z",
     "shell.execute_reply": "2025-07-25T21:13:55.637350Z"
    },
    "papermill": {
     "duration": 0.421756,
     "end_time": "2025-07-25T21:13:55.639613",
     "exception": false,
     "start_time": "2025-07-25T21:13:55.217857",
     "status": "completed"
    },
    "tags": []
   },
   "outputs": [
    {
     "name": "stdout",
     "output_type": "stream",
     "text": [
      "+-----------+------------------+\n",
      "|customer_id|    lifetime_value|\n",
      "+-----------+------------------+\n",
      "|         29| 7902.079999999999|\n",
      "|         26|5203.7699999999995|\n",
      "|         65|           2613.07|\n",
      "|         54|           5918.25|\n",
      "|         19|            3405.9|\n",
      "|         22|1857.9999999999998|\n",
      "|          7|           8579.36|\n",
      "|         77|           4857.84|\n",
      "|         34| 4710.019999999999|\n",
      "|         94| 8223.160000000002|\n",
      "|         50|10609.480000000001|\n",
      "|         57|           1293.71|\n",
      "|         32|            653.73|\n",
      "|         43|           1656.84|\n",
      "|         84|           1888.75|\n",
      "|         31| 9094.800000000001|\n",
      "|         98|           1514.04|\n",
      "|         39|2023.5399999999997|\n",
      "|         25|5238.8099999999995|\n",
      "|         95|           1356.84|\n",
      "+-----------+------------------+\n",
      "only showing top 20 rows\n",
      "\n"
     ]
    }
   ],
   "source": [
    "df_ltv.show()"
   ]
  },
  {
   "cell_type": "code",
   "execution_count": 10,
   "id": "2289c31f-baa7-4e18-932b-d76998c641ac",
   "metadata": {
    "execution": {
     "iopub.execute_input": "2025-07-25T21:13:55.656905Z",
     "iopub.status.busy": "2025-07-25T21:13:55.656353Z",
     "iopub.status.idle": "2025-07-25T21:13:56.609052Z",
     "shell.execute_reply": "2025-07-25T21:13:56.608507Z"
    },
    "papermill": {
     "duration": 0.966393,
     "end_time": "2025-07-25T21:13:56.610288",
     "exception": false,
     "start_time": "2025-07-25T21:13:55.643895",
     "status": "completed"
    },
    "tags": []
   },
   "outputs": [],
   "source": [
    "df_ltv.write.mode(\"overwrite\").parquet(r\"/home/jovyan/work/staging/fact_ltv.parquet\")"
   ]
  },
  {
   "cell_type": "code",
   "execution_count": 11,
   "id": "0e171573-ebdd-4a39-89c9-916d05ca4add",
   "metadata": {
    "execution": {
     "iopub.execute_input": "2025-07-25T21:13:56.626553Z",
     "iopub.status.busy": "2025-07-25T21:13:56.626189Z",
     "iopub.status.idle": "2025-07-25T21:13:56.629566Z",
     "shell.execute_reply": "2025-07-25T21:13:56.628850Z"
    },
    "papermill": {
     "duration": 0.016934,
     "end_time": "2025-07-25T21:13:56.630943",
     "exception": false,
     "start_time": "2025-07-25T21:13:56.614009",
     "status": "completed"
    },
    "tags": []
   },
   "outputs": [
    {
     "name": "stdout",
     "output_type": "stream",
     "text": [
      "✅ Transformation complete. Output saved to staging/fact_ltv.parquet\n"
     ]
    }
   ],
   "source": [
    "print(\"✅ Transformation complete. Output saved to staging/fact_ltv.parquet\")"
   ]
  },
  {
   "cell_type": "code",
   "execution_count": 12,
   "id": "3fdf3d6c-43df-4079-92eb-be05dda200a9",
   "metadata": {
    "execution": {
     "iopub.execute_input": "2025-07-25T21:13:56.649198Z",
     "iopub.status.busy": "2025-07-25T21:13:56.648913Z",
     "iopub.status.idle": "2025-07-25T21:13:56.926598Z",
     "shell.execute_reply": "2025-07-25T21:13:56.925702Z"
    },
    "papermill": {
     "duration": 0.292109,
     "end_time": "2025-07-25T21:13:56.928556",
     "exception": false,
     "start_time": "2025-07-25T21:13:56.636447",
     "status": "completed"
    },
    "tags": []
   },
   "outputs": [],
   "source": [
    "spark.stop()"
   ]
  },
  {
   "cell_type": "code",
   "execution_count": null,
   "id": "912bdc14-5acb-4021-bc75-2ed3833c15f6",
   "metadata": {
    "papermill": {
     "duration": 0.014087,
     "end_time": "2025-07-25T21:13:56.947486",
     "exception": false,
     "start_time": "2025-07-25T21:13:56.933399",
     "status": "completed"
    },
    "tags": []
   },
   "outputs": [],
   "source": []
  }
 ],
 "metadata": {
  "kernelspec": {
   "display_name": "Python 3 (ipykernel)",
   "language": "python",
   "name": "python3"
  },
  "language_info": {
   "codemirror_mode": {
    "name": "ipython",
    "version": 3
   },
   "file_extension": ".py",
   "mimetype": "text/x-python",
   "name": "python",
   "nbconvert_exporter": "python",
   "pygments_lexer": "ipython3",
   "version": "3.11.6"
  },
  "papermill": {
   "default_parameters": {},
   "duration": 12.792666,
   "end_time": "2025-07-25T21:13:59.577192",
   "environment_variables": {},
   "exception": null,
   "input_path": "/home/jovyan/work/etl/transform.ipynb",
   "output_path": "/home/jovyan/work/etl/out_transform.ipynb",
   "parameters": {},
   "start_time": "2025-07-25T21:13:46.784526",
   "version": "2.6.0"
  }
 },
 "nbformat": 4,
 "nbformat_minor": 5
}