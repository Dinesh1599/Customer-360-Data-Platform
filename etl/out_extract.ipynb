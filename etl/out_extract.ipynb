{
 "cells": [
  {
   "cell_type": "code",
   "execution_count": 1,
   "id": "1155de5a-b9bf-4a0f-a1c8-235985da9c87",
   "metadata": {
    "execution": {
     "iopub.execute_input": "2025-07-25T21:13:42.416085Z",
     "iopub.status.busy": "2025-07-25T21:13:42.415707Z",
     "iopub.status.idle": "2025-07-25T21:13:42.686889Z",
     "shell.execute_reply": "2025-07-25T21:13:42.686422Z"
    },
    "papermill": {
     "duration": 0.278385,
     "end_time": "2025-07-25T21:13:42.688347",
     "exception": false,
     "start_time": "2025-07-25T21:13:42.409962",
     "status": "completed"
    },
    "tags": []
   },
   "outputs": [],
   "source": [
    "import pandas as pd\n",
    "import json\n",
    "import os\n",
    "import pyarrow as pa\n",
    "import pyarrow.parquet as pq"
   ]
  },
  {
   "cell_type": "code",
   "execution_count": 2,
   "id": "7cd3d218-9eb1-4995-8880-2053180c6252",
   "metadata": {
    "execution": {
     "iopub.execute_input": "2025-07-25T21:13:42.705258Z",
     "iopub.status.busy": "2025-07-25T21:13:42.704893Z",
     "iopub.status.idle": "2025-07-25T21:13:42.708279Z",
     "shell.execute_reply": "2025-07-25T21:13:42.707715Z"
    },
    "papermill": {
     "duration": 0.017995,
     "end_time": "2025-07-25T21:13:42.709594",
     "exception": false,
     "start_time": "2025-07-25T21:13:42.691599",
     "status": "completed"
    },
    "tags": []
   },
   "outputs": [],
   "source": [
    "os.makedirs(\"../staging\", exist_ok=True)"
   ]
  },
  {
   "cell_type": "code",
   "execution_count": 3,
   "id": "ee0075ef-230e-437f-9577-f08216e99bf3",
   "metadata": {
    "execution": {
     "iopub.execute_input": "2025-07-25T21:13:42.728829Z",
     "iopub.status.busy": "2025-07-25T21:13:42.728390Z",
     "iopub.status.idle": "2025-07-25T21:13:42.732051Z",
     "shell.execute_reply": "2025-07-25T21:13:42.731565Z"
    },
    "papermill": {
     "duration": 0.018934,
     "end_time": "2025-07-25T21:13:42.733530",
     "exception": false,
     "start_time": "2025-07-25T21:13:42.714596",
     "status": "completed"
    },
    "tags": []
   },
   "outputs": [],
   "source": [
    "def extract_tickets():\n",
    "    with open(\"/home/jovyan/work/data/support_tickets.json\") as f:\n",
    "        tickets = json.load(f)\n",
    "    df = pd.DataFrame(tickets)\n",
    "    df.to_parquet(\"/home/jovyan/work/staging/tickets.parquet\", index=False)\n",
    "    print(\"✅ Ticket data extracted to staging/tickets.parquet\")"
   ]
  },
  {
   "cell_type": "code",
   "execution_count": 4,
   "id": "d1a79727-1f99-4de0-9b34-0c1d671069eb",
   "metadata": {
    "execution": {
     "iopub.execute_input": "2025-07-25T21:13:42.748541Z",
     "iopub.status.busy": "2025-07-25T21:13:42.748313Z",
     "iopub.status.idle": "2025-07-25T21:13:42.751020Z",
     "shell.execute_reply": "2025-07-25T21:13:42.750565Z"
    },
    "papermill": {
     "duration": 0.015361,
     "end_time": "2025-07-25T21:13:42.752213",
     "exception": false,
     "start_time": "2025-07-25T21:13:42.736852",
     "status": "completed"
    },
    "tags": []
   },
   "outputs": [],
   "source": [
    "def extract_logs():\n",
    "    df = pd.read_csv(\"/home/jovyan/work/data/web_logs.csv\")\n",
    "    df.to_parquet(\"/home/jovyan/work/staging/logs.parquet\", index=False)\n",
    "    print(\"✅ Log data extracted to staging/logs.parquet\")"
   ]
  },
  {
   "cell_type": "code",
   "execution_count": 5,
   "id": "dbcbd59f-1c52-4f7a-b0ac-30235d21c821",
   "metadata": {
    "execution": {
     "iopub.execute_input": "2025-07-25T21:13:42.773166Z",
     "iopub.status.busy": "2025-07-25T21:13:42.772691Z",
     "iopub.status.idle": "2025-07-25T21:13:42.776143Z",
     "shell.execute_reply": "2025-07-25T21:13:42.775649Z"
    },
    "papermill": {
     "duration": 0.016705,
     "end_time": "2025-07-25T21:13:42.776948",
     "exception": false,
     "start_time": "2025-07-25T21:13:42.760243",
     "status": "completed"
    },
    "tags": []
   },
   "outputs": [],
   "source": [
    "def extract_crm():\n",
    "    df = pd.read_csv(\"/home/jovyan/work/data/customers.csv\")\n",
    "    df.to_parquet(\"/home/jovyan/work/staging/crm.parquet\", index=False)\n",
    "    print(\"✅ CRM data extracted to staging/crm.parquet\")"
   ]
  },
  {
   "cell_type": "code",
   "execution_count": 6,
   "id": "a0170a12-55fe-472f-984d-0503e774fac3",
   "metadata": {
    "execution": {
     "iopub.execute_input": "2025-07-25T21:13:42.795435Z",
     "iopub.status.busy": "2025-07-25T21:13:42.794984Z",
     "iopub.status.idle": "2025-07-25T21:13:42.799224Z",
     "shell.execute_reply": "2025-07-25T21:13:42.798698Z"
    },
    "papermill": {
     "duration": 0.017932,
     "end_time": "2025-07-25T21:13:42.800264",
     "exception": false,
     "start_time": "2025-07-25T21:13:42.782332",
     "status": "completed"
    },
    "tags": []
   },
   "outputs": [],
   "source": [
    "def extract_txns():\n",
    "    df = pd.read_excel(\"/home/jovyan/work/data/transactions.xlsx\")\n",
    "\n",
    "    # Fix all datetime columns to millisecond precision\n",
    "    for col in df.select_dtypes(include=[\"datetime64[ns]\"]).columns:\n",
    "        df[col] = df[col].dt.floor(\"ms\")\n",
    "\n",
    "    # Write Parquet using pyarrow with explicit timestamp coercion\n",
    "    table = pa.Table.from_pandas(df, preserve_index=False)\n",
    "    pq.write_table(\n",
    "        table,\n",
    "        \"/home/jovyan/work/staging/txns.parquet\",\n",
    "        coerce_timestamps=\"ms\",\n",
    "        use_deprecated_int96_timestamps=False\n",
    "    )\n",
    "\n",
    "    print(\"✅ Transaction data saved to staging/txns.parquet with ms timestamps\")"
   ]
  },
  {
   "cell_type": "code",
   "execution_count": 7,
   "id": "3f2c4194-d2b7-4152-aabc-371fb509d8e6",
   "metadata": {
    "execution": {
     "iopub.execute_input": "2025-07-25T21:13:42.816909Z",
     "iopub.status.busy": "2025-07-25T21:13:42.816339Z",
     "iopub.status.idle": "2025-07-25T21:13:42.979039Z",
     "shell.execute_reply": "2025-07-25T21:13:42.978210Z"
    },
    "papermill": {
     "duration": 0.174853,
     "end_time": "2025-07-25T21:13:42.980312",
     "exception": false,
     "start_time": "2025-07-25T21:13:42.805459",
     "status": "completed"
    },
    "tags": []
   },
   "outputs": [
    {
     "name": "stdout",
     "output_type": "stream",
     "text": [
      "✅ CRM data extracted to staging/crm.parquet\n",
      "✅ Ticket data extracted to staging/tickets.parquet\n",
      "✅ Log data extracted to staging/logs.parquet\n",
      "✅ Transaction data saved to staging/txns.parquet with ms timestamps\n"
     ]
    }
   ],
   "source": [
    "extract_crm()\n",
    "extract_tickets()\n",
    "extract_logs()\n",
    "extract_txns()"
   ]
  },
  {
   "cell_type": "code",
   "execution_count": null,
   "id": "71e3df0f-9290-4bcd-8b21-bdcf3be92222",
   "metadata": {
    "papermill": {
     "duration": 0.008998,
     "end_time": "2025-07-25T21:13:42.992700",
     "exception": false,
     "start_time": "2025-07-25T21:13:42.983702",
     "status": "completed"
    },
    "tags": []
   },
   "outputs": [],
   "source": []
  }
 ],
 "metadata": {
  "kernelspec": {
   "display_name": "Python 3 (ipykernel)",
   "language": "python",
   "name": "python3"
  },
  "language_info": {
   "codemirror_mode": {
    "name": "ipython",
    "version": 3
   },
   "file_extension": ".py",
   "mimetype": "text/x-python",
   "name": "python",
   "nbconvert_exporter": "python",
   "pygments_lexer": "ipython3",
   "version": "3.11.6"
  },
  "papermill": {
   "default_parameters": {},
   "duration": 1.643348,
   "end_time": "2025-07-25T21:13:43.320704",
   "environment_variables": {},
   "exception": null,
   "input_path": "/home/jovyan/work/etl/extract.ipynb",
   "output_path": "/home/jovyan/work/etl/out_extract.ipynb",
   "parameters": {},
   "start_time": "2025-07-25T21:13:41.677356",
   "version": "2.6.0"
  }
 },
 "nbformat": 4,
 "nbformat_minor": 5
}