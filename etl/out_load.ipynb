{
 "cells": [
  {
   "cell_type": "code",
   "execution_count": 1,
   "id": "1aecb15c-eca7-4e8d-b5a7-73d3a970884f",
   "metadata": {
    "execution": {
     "iopub.execute_input": "2025-07-25T21:14:01.896348Z",
     "iopub.status.busy": "2025-07-25T21:14:01.896138Z",
     "iopub.status.idle": "2025-07-25T21:14:02.322298Z",
     "shell.execute_reply": "2025-07-25T21:14:02.321608Z"
    },
    "papermill": {
     "duration": 0.432954,
     "end_time": "2025-07-25T21:14:02.324228",
     "exception": false,
     "start_time": "2025-07-25T21:14:01.891274",
     "status": "completed"
    },
    "tags": []
   },
   "outputs": [],
   "source": [
    "import pandas as pd\n",
    "import json\n",
    "from snowflake.connector.pandas_tools import write_pandas\n",
    "import snowflake.connector\n"
   ]
  },
  {
   "cell_type": "code",
   "execution_count": 2,
   "id": "fbe52322-ddca-4658-ad20-fb1934400da8",
   "metadata": {
    "execution": {
     "iopub.execute_input": "2025-07-25T21:14:02.344142Z",
     "iopub.status.busy": "2025-07-25T21:14:02.343782Z",
     "iopub.status.idle": "2025-07-25T21:14:02.349560Z",
     "shell.execute_reply": "2025-07-25T21:14:02.348942Z"
    },
    "papermill": {
     "duration": 0.022715,
     "end_time": "2025-07-25T21:14:02.350923",
     "exception": false,
     "start_time": "2025-07-25T21:14:02.328208",
     "status": "completed"
    },
    "tags": []
   },
   "outputs": [],
   "source": [
    "with open(\"/home/jovyan/work/config/snowflake_config.json\") as f:\n",
    "    creds = json.load(f)"
   ]
  },
  {
   "cell_type": "code",
   "execution_count": 3,
   "id": "eadd10ef-4930-437f-bf55-e8e1e43be5d5",
   "metadata": {
    "execution": {
     "iopub.execute_input": "2025-07-25T21:14:02.366889Z",
     "iopub.status.busy": "2025-07-25T21:14:02.366686Z",
     "iopub.status.idle": "2025-07-25T21:14:03.008544Z",
     "shell.execute_reply": "2025-07-25T21:14:03.007793Z"
    },
    "papermill": {
     "duration": 0.655371,
     "end_time": "2025-07-25T21:14:03.009923",
     "exception": false,
     "start_time": "2025-07-25T21:14:02.354552",
     "status": "completed"
    },
    "tags": []
   },
   "outputs": [],
   "source": [
    "conn = snowflake.connector.connect(\n",
    "    user=creds[\"user\"],\n",
    "    password=creds[\"password\"],\n",
    "    account=creds[\"account\"],\n",
    "    warehouse=creds[\"warehouse\"],\n",
    "    database=creds[\"database\"],\n",
    "    schema=creds[\"schema\"],\n",
    "    role=creds[\"role\"]\n",
    ")\n",
    "\n",
    "cs = conn.cursor()"
   ]
  },
  {
   "cell_type": "code",
   "execution_count": 4,
   "id": "9338eda2-8f4f-4124-adde-39b56ac87de7",
   "metadata": {
    "execution": {
     "iopub.execute_input": "2025-07-25T21:14:03.026083Z",
     "iopub.status.busy": "2025-07-25T21:14:03.025635Z",
     "iopub.status.idle": "2025-07-25T21:14:03.189174Z",
     "shell.execute_reply": "2025-07-25T21:14:03.188582Z"
    },
    "papermill": {
     "duration": 0.176748,
     "end_time": "2025-07-25T21:14:03.190276",
     "exception": false,
     "start_time": "2025-07-25T21:14:03.013528",
     "status": "completed"
    },
    "tags": []
   },
   "outputs": [
    {
     "data": {
      "text/plain": [
       "<snowflake.connector.cursor.SnowflakeCursor at 0x7f91f84987d0>"
      ]
     },
     "execution_count": 4,
     "metadata": {},
     "output_type": "execute_result"
    }
   ],
   "source": [
    "# Create table if it doesn’t exist\n",
    "cs.execute(\"\"\"\n",
    "CREATE TABLE IF NOT EXISTS FACT_LTV (\n",
    "    CUSTOMER_ID STRING,\n",
    "    LIFETIME_VALUE FLOAT\n",
    ")\n",
    "\"\"\")"
   ]
  },
  {
   "cell_type": "code",
   "execution_count": 5,
   "id": "35760702-33fa-45c0-b372-80839165aa33",
   "metadata": {
    "execution": {
     "iopub.execute_input": "2025-07-25T21:14:03.210671Z",
     "iopub.status.busy": "2025-07-25T21:14:03.210448Z",
     "iopub.status.idle": "2025-07-25T21:14:03.289815Z",
     "shell.execute_reply": "2025-07-25T21:14:03.289145Z"
    },
    "papermill": {
     "duration": 0.09753,
     "end_time": "2025-07-25T21:14:03.291314",
     "exception": false,
     "start_time": "2025-07-25T21:14:03.193784",
     "status": "completed"
    },
    "tags": []
   },
   "outputs": [],
   "source": [
    "df = pd.read_parquet(\"/home/jovyan/work/staging/fact_ltv.parquet\")"
   ]
  },
  {
   "cell_type": "code",
   "execution_count": 6,
   "id": "f4f1e42f-e417-432e-8e8b-b4d390849e1a",
   "metadata": {
    "execution": {
     "iopub.execute_input": "2025-07-25T21:14:03.307735Z",
     "iopub.status.busy": "2025-07-25T21:14:03.307352Z",
     "iopub.status.idle": "2025-07-25T21:14:03.311316Z",
     "shell.execute_reply": "2025-07-25T21:14:03.310752Z"
    },
    "papermill": {
     "duration": 0.017597,
     "end_time": "2025-07-25T21:14:03.312937",
     "exception": false,
     "start_time": "2025-07-25T21:14:03.295340",
     "status": "completed"
    },
    "tags": []
   },
   "outputs": [
    {
     "name": "stdout",
     "output_type": "stream",
     "text": [
      "DataFrame columns: Index(['customer_id', 'lifetime_value'], dtype='object')\n"
     ]
    }
   ],
   "source": [
    "print(\"DataFrame columns:\", df.columns)"
   ]
  },
  {
   "cell_type": "code",
   "execution_count": 7,
   "id": "636511eb-f8ac-417f-9813-ffa8ca78631d",
   "metadata": {
    "execution": {
     "iopub.execute_input": "2025-07-25T21:14:03.336274Z",
     "iopub.status.busy": "2025-07-25T21:14:03.335482Z",
     "iopub.status.idle": "2025-07-25T21:14:03.339458Z",
     "shell.execute_reply": "2025-07-25T21:14:03.338859Z"
    },
    "papermill": {
     "duration": 0.021803,
     "end_time": "2025-07-25T21:14:03.340484",
     "exception": false,
     "start_time": "2025-07-25T21:14:03.318681",
     "status": "completed"
    },
    "tags": []
   },
   "outputs": [],
   "source": [
    "df.columns = [col.upper() for col in df.columns]"
   ]
  },
  {
   "cell_type": "code",
   "execution_count": 8,
   "id": "b4b9bbbd-f03a-419d-9e30-f7afc10c404c",
   "metadata": {
    "execution": {
     "iopub.execute_input": "2025-07-25T21:14:03.356129Z",
     "iopub.status.busy": "2025-07-25T21:14:03.355356Z",
     "iopub.status.idle": "2025-07-25T21:14:03.359320Z",
     "shell.execute_reply": "2025-07-25T21:14:03.358637Z"
    },
    "papermill": {
     "duration": 0.015913,
     "end_time": "2025-07-25T21:14:03.360689",
     "exception": false,
     "start_time": "2025-07-25T21:14:03.344776",
     "status": "completed"
    },
    "tags": []
   },
   "outputs": [
    {
     "name": "stdout",
     "output_type": "stream",
     "text": [
      "DataFrame columns: Index(['CUSTOMER_ID', 'LIFETIME_VALUE'], dtype='object')\n"
     ]
    }
   ],
   "source": [
    "print(\"DataFrame columns:\", df.columns)"
   ]
  },
  {
   "cell_type": "code",
   "execution_count": 9,
   "id": "71ed0303-97a8-4a72-acaa-181603f6077b",
   "metadata": {
    "execution": {
     "iopub.execute_input": "2025-07-25T21:14:03.379223Z",
     "iopub.status.busy": "2025-07-25T21:14:03.378786Z",
     "iopub.status.idle": "2025-07-25T21:14:05.248437Z",
     "shell.execute_reply": "2025-07-25T21:14:05.247721Z"
    },
    "papermill": {
     "duration": 1.883455,
     "end_time": "2025-07-25T21:14:05.249891",
     "exception": false,
     "start_time": "2025-07-25T21:14:03.366436",
     "status": "completed"
    },
    "tags": []
   },
   "outputs": [
    {
     "name": "stdout",
     "output_type": "stream",
     "text": [
      "📤 Uploading to Snowflake table FACT_LTV...\n"
     ]
    }
   ],
   "source": [
    "print(\"📤 Uploading to Snowflake table FACT_LTV...\")\n",
    "success, nchunks, nrows, _ = write_pandas(conn, df, 'FACT_LTV')"
   ]
  },
  {
   "cell_type": "code",
   "execution_count": 10,
   "id": "f87e21fe-8082-41da-97d8-e4eadfa2b846",
   "metadata": {
    "execution": {
     "iopub.execute_input": "2025-07-25T21:14:05.265527Z",
     "iopub.status.busy": "2025-07-25T21:14:05.264825Z",
     "iopub.status.idle": "2025-07-25T21:14:05.268637Z",
     "shell.execute_reply": "2025-07-25T21:14:05.268077Z"
    },
    "papermill": {
     "duration": 0.016217,
     "end_time": "2025-07-25T21:14:05.270097",
     "exception": false,
     "start_time": "2025-07-25T21:14:05.253880",
     "status": "completed"
    },
    "tags": []
   },
   "outputs": [
    {
     "name": "stdout",
     "output_type": "stream",
     "text": [
      "✅ Upload successful: 99 rows uploaded in 1 chunks.\n"
     ]
    }
   ],
   "source": [
    "if success:\n",
    "    print(f\"✅ Upload successful: {nrows} rows uploaded in {nchunks} chunks.\")\n",
    "else:\n",
    "    print(\"❌ Upload failed.\")"
   ]
  },
  {
   "cell_type": "code",
   "execution_count": null,
   "id": "c1fefc5b-1233-43ee-8a75-ac1288db11e4",
   "metadata": {
    "papermill": {
     "duration": 0.009263,
     "end_time": "2025-07-25T21:14:05.283119",
     "exception": false,
     "start_time": "2025-07-25T21:14:05.273856",
     "status": "completed"
    },
    "tags": []
   },
   "outputs": [],
   "source": []
  },
  {
   "cell_type": "code",
   "execution_count": null,
   "id": "d681687d-9665-4b14-accc-4e1e5821ca49",
   "metadata": {
    "papermill": {
     "duration": 0.011182,
     "end_time": "2025-07-25T21:14:05.305912",
     "exception": false,
     "start_time": "2025-07-25T21:14:05.294730",
     "status": "completed"
    },
    "tags": []
   },
   "outputs": [],
   "source": []
  }
 ],
 "metadata": {
  "kernelspec": {
   "display_name": "Python 3 (ipykernel)",
   "language": "python",
   "name": "python3"
  },
  "language_info": {
   "codemirror_mode": {
    "name": "ipython",
    "version": 3
   },
   "file_extension": ".py",
   "mimetype": "text/x-python",
   "name": "python",
   "nbconvert_exporter": "python",
   "pygments_lexer": "ipython3",
   "version": "3.11.6"
  },
  "papermill": {
   "default_parameters": {},
   "duration": 4.83509,
   "end_time": "2025-07-25T21:14:05.736496",
   "environment_variables": {},
   "exception": null,
   "input_path": "/home/jovyan/work/etl/load_to_snowflake.ipynb",
   "output_path": "/home/jovyan/work/etl/out_load.ipynb",
   "parameters": {},
   "start_time": "2025-07-25T21:14:00.901406",
   "version": "2.6.0"
  }
 },
 "nbformat": 4,
 "nbformat_minor": 5
}