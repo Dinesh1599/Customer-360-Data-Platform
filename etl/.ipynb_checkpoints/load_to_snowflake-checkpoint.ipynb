{
 "cells": [
  {
   "cell_type": "code",
   "execution_count": 11,
   "id": "1aecb15c-eca7-4e8d-b5a7-73d3a970884f",
   "metadata": {},
   "outputs": [],
   "source": [
    "import pandas as pd\n",
    "import json\n",
    "from snowflake.connector.pandas_tools import write_pandas\n",
    "import snowflake.connector\n"
   ]
  },
  {
   "cell_type": "code",
   "execution_count": 12,
   "id": "fbe52322-ddca-4658-ad20-fb1934400da8",
   "metadata": {},
   "outputs": [],
   "source": [
    "with open(\"/home/jovyan/work/config/snowflake_config.json\") as f:\n",
    "    creds = json.load(f)"
   ]
  },
  {
   "cell_type": "code",
   "execution_count": 13,
   "id": "eadd10ef-4930-437f-bf55-e8e1e43be5d5",
   "metadata": {},
   "outputs": [],
   "source": [
    "conn = snowflake.connector.connect(\n",
    "    user=creds[\"user\"],\n",
    "    password=creds[\"password\"],\n",
    "    account=creds[\"account\"],\n",
    "    warehouse=creds[\"warehouse\"],\n",
    "    database=creds[\"database\"],\n",
    "    schema=creds[\"schema\"],\n",
    "    role=creds[\"role\"]\n",
    ")\n",
    "\n",
    "cs = conn.cursor()"
   ]
  },
  {
   "cell_type": "code",
   "execution_count": 14,
   "id": "9338eda2-8f4f-4124-adde-39b56ac87de7",
   "metadata": {},
   "outputs": [
    {
     "data": {
      "text/plain": [
       "<snowflake.connector.cursor.SnowflakeCursor at 0x7f788c71c290>"
      ]
     },
     "execution_count": 14,
     "metadata": {},
     "output_type": "execute_result"
    }
   ],
   "source": [
    "# Create table if it doesn’t exist\n",
    "cs.execute(\"\"\"\n",
    "CREATE TABLE IF NOT EXISTS FACT_LTV (\n",
    "    CUSTOMER_ID STRING,\n",
    "    LIFETIME_VALUE FLOAT\n",
    ")\n",
    "\"\"\")"
   ]
  },
  {
   "cell_type": "code",
   "execution_count": 15,
   "id": "35760702-33fa-45c0-b372-80839165aa33",
   "metadata": {},
   "outputs": [],
   "source": [
    "df = pd.read_parquet(\"/home/jovyan/work/staging/fact_ltv.parquet\")"
   ]
  },
  {
   "cell_type": "code",
   "execution_count": 16,
   "id": "f4f1e42f-e417-432e-8e8b-b4d390849e1a",
   "metadata": {},
   "outputs": [
    {
     "name": "stdout",
     "output_type": "stream",
     "text": [
      "DataFrame columns: Index(['customer_id', 'lifetime_value'], dtype='object')\n"
     ]
    }
   ],
   "source": [
    "print(\"DataFrame columns:\", df.columns)"
   ]
  },
  {
   "cell_type": "code",
   "execution_count": 17,
   "id": "636511eb-f8ac-417f-9813-ffa8ca78631d",
   "metadata": {},
   "outputs": [],
   "source": [
    "df.columns = [col.upper() for col in df.columns]"
   ]
  },
  {
   "cell_type": "code",
   "execution_count": 18,
   "id": "b4b9bbbd-f03a-419d-9e30-f7afc10c404c",
   "metadata": {},
   "outputs": [
    {
     "name": "stdout",
     "output_type": "stream",
     "text": [
      "DataFrame columns: Index(['CUSTOMER_ID', 'LIFETIME_VALUE'], dtype='object')\n"
     ]
    }
   ],
   "source": [
    "print(\"DataFrame columns:\", df.columns)"
   ]
  },
  {
   "cell_type": "code",
   "execution_count": 19,
   "id": "71ed0303-97a8-4a72-acaa-181603f6077b",
   "metadata": {},
   "outputs": [
    {
     "name": "stdout",
     "output_type": "stream",
     "text": [
      "📤 Uploading to Snowflake table FACT_LTV...\n"
     ]
    }
   ],
   "source": [
    "print(\"📤 Uploading to Snowflake table FACT_LTV...\")\n",
    "success, nchunks, nrows, _ = write_pandas(conn, df, 'FACT_LTV')"
   ]
  },
  {
   "cell_type": "code",
   "execution_count": 20,
   "id": "f87e21fe-8082-41da-97d8-e4eadfa2b846",
   "metadata": {},
   "outputs": [
    {
     "name": "stdout",
     "output_type": "stream",
     "text": [
      "✅ Upload successful: 99 rows uploaded in 1 chunks.\n"
     ]
    }
   ],
   "source": [
    "if success:\n",
    "    print(f\"✅ Upload successful: {nrows} rows uploaded in {nchunks} chunks.\")\n",
    "else:\n",
    "    print(\"❌ Upload failed.\")"
   ]
  },
  {
   "cell_type": "code",
   "execution_count": null,
   "id": "c1fefc5b-1233-43ee-8a75-ac1288db11e4",
   "metadata": {},
   "outputs": [],
   "source": []
  },
  {
   "cell_type": "code",
   "execution_count": null,
   "id": "d681687d-9665-4b14-accc-4e1e5821ca49",
   "metadata": {},
   "outputs": [],
   "source": []
  }
 ],
 "metadata": {
  "kernelspec": {
   "display_name": "Python 3 (ipykernel)",
   "language": "python",
   "name": "python3"
  },
  "language_info": {
   "codemirror_mode": {
    "name": "ipython",
    "version": 3
   },
   "file_extension": ".py",
   "mimetype": "text/x-python",
   "name": "python",
   "nbconvert_exporter": "python",
   "pygments_lexer": "ipython3",
   "version": "3.11.6"
  }
 },
 "nbformat": 4,
 "nbformat_minor": 5
}
